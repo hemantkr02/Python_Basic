{
  "nbformat": 4,
  "nbformat_minor": 0,
  "metadata": {
    "colab": {
      "provenance": []
    },
    "kernelspec": {
      "name": "python3",
      "display_name": "Python 3"
    },
    "language_info": {
      "name": "python"
    }
  },
  "cells": [
    {
      "cell_type": "markdown",
      "source": [
        "1. What is python and why it is popular?\n",
        "\n",
        "    -> Python is a high level interpreted programming language that is easy to read and write. It's popular because of its simple syntax and supports multiple and a huge collection of libraries that make programming faster and easier.\n",
        "  "
      ],
      "metadata": {
        "id": "msk8GrFdhRri"
      }
    },
    {
      "cell_type": "markdown",
      "source": [
        "2. What is an interpreter in Python?\n",
        "\n",
        "    -> An interpreter in Python is a program that reads and executes code line by line. It converts Python code into machine understandable at runtime so you don't need to compile it before running."
      ],
      "metadata": {
        "id": "p2dtmB9G3GFF"
      }
    },
    {
      "cell_type": "markdown",
      "source": [
        "3. What are pre-defined keywords in Python?\n",
        "\n",
        "    -> Pre-defined keywords are special reserved words in python that have specific meaning and proposes. Eg: if, else, while, for, class, return etc."
      ],
      "metadata": {
        "id": "Y2Ba3Oai4PX0"
      }
    },
    {
      "cell_type": "markdown",
      "source": [
        "4. Can keywords be used as variable names?\n",
        "\n",
        "    -> No, you can't use keywords as variable names."
      ],
      "metadata": {
        "id": "CUovOOL15Unn"
      }
    },
    {
      "cell_type": "markdown",
      "source": [
        "5. What is mutability in Python?\n",
        "\n",
        "    -> Mutability means whether an object's value can be changed after it is declared."
      ],
      "metadata": {
        "id": "VMsA4YMf5lKq"
      }
    },
    {
      "cell_type": "markdown",
      "source": [
        "6. Why are lists mutable, but tuples are immutable?\n",
        "\n",
        "    -> Lists are designed to be flexible so you can add, remove, or modify their elements.\n",
        "    Tuples, on the other hand are meant to store fixed data so once created their contents can't be changed.\n",
        "    That's why lists are mutable, but tuples are immutable."
      ],
      "metadata": {
        "id": "6pkLcj6T56PF"
      }
    },
    {
      "cell_type": "markdown",
      "source": [
        "7. What is the difference between “==” and “is” operators in Python?\n",
        "\n",
        "    -> == checks if two values are equal.\n",
        "    \"is\" checks if two variables point to the same memory location."
      ],
      "metadata": {
        "id": "Mv9ku_Mq6gPs"
      }
    },
    {
      "cell_type": "markdown",
      "source": [
        "8. What are logical operators in Python?\n",
        "\n",
        "    -> LOgical operators are used to combine conditional statements like and, or, not."
      ],
      "metadata": {
        "id": "BI2W1V158lEu"
      }
    },
    {
      "cell_type": "markdown",
      "source": [
        "9. What is type casting in Python?\n",
        "\n",
        "    -> Type casting means converting one data type into another."
      ],
      "metadata": {
        "id": "GAtqj7m59WbZ"
      }
    },
    {
      "cell_type": "markdown",
      "source": [
        "10. What is the difference between implicit and explicit type casting?\n",
        "\n",
        "    -> Implicit casting: Python automatically converts one type to another.\n",
        "    Explicit casting: You manually convert using functions like int, float, or str."
      ],
      "metadata": {
        "id": "sS53zN1E9iy6"
      }
    },
    {
      "cell_type": "markdown",
      "source": [
        "11. What is the purpose of conditional statements in Python?\n",
        "\n",
        "    -> Conditional statements are used to make decisions in code to let your program choose what to do based on conditions."
      ],
      "metadata": {
        "id": "GD_VRVuy99GC"
      }
    },
    {
      "cell_type": "markdown",
      "source": [
        "12. How does the elif statement work?\n",
        "\n",
        "    -> The elif statement checks another condition if the first if is False. It allows multiple conditions to be tested in order."
      ],
      "metadata": {
        "id": "zJpagXy1LLqB"
      }
    },
    {
      "cell_type": "markdown",
      "source": [
        "13. What is the difference between for and while loops?\n",
        "\n",
        "    -> for loop is used when you know how many times to repeat.\n",
        "    while loop is used when you don't know the exact number of iterations and want to loop until a condition is false."
      ],
      "metadata": {
        "id": "G6lhM14NLc1s"
      }
    },
    {
      "cell_type": "markdown",
      "source": [
        "14. Describe a scenario where a while loop is more suitable than a for loop.\n",
        "\n",
        "    -> A while loop is better when you don't know how many times to loop like If you want to keep asking a user for input until they enter the correct password you would use a while loop."
      ],
      "metadata": {
        "id": "tIAli1JJLuwM"
      }
    },
    {
      "cell_type": "code",
      "execution_count": 1,
      "metadata": {
        "id": "xh1gEhSnFKU2",
        "colab": {
          "base_uri": "https://localhost:8080/"
        },
        "outputId": "c5049d69-50c1-4e87-bea9-4b89cce47f0c"
      },
      "outputs": [
        {
          "output_type": "stream",
          "name": "stdout",
          "text": [
            "Hello, World!\n"
          ]
        }
      ],
      "source": [
        "#1 Write a Python program to print \"Hello, World!\"\n",
        "\n",
        "print(\"Hello, World!\")\n"
      ]
    },
    {
      "cell_type": "code",
      "source": [
        "#2 Write a Python program that displays your name and age\n",
        "name = \"Hemant\"\n",
        "age = 22\n",
        "print(\"My name is\", name, \"and I am\", age, \"years old.\")"
      ],
      "metadata": {
        "colab": {
          "base_uri": "https://localhost:8080/"
        },
        "id": "dmatH09LTvm8",
        "outputId": "d5323c56-e136-4307-b6b3-19874d0708db"
      },
      "execution_count": 2,
      "outputs": [
        {
          "output_type": "stream",
          "name": "stdout",
          "text": [
            "My name is Hemant and I am 22 years old.\n"
          ]
        }
      ]
    },
    {
      "cell_type": "code",
      "source": [
        "#3 Write code to print all the pre-defined keywords in Python using the keyword library\n",
        "import keyword\n",
        "print(\"Python Keywords are:\")\n",
        "print(keyword.kwlist)"
      ],
      "metadata": {
        "colab": {
          "base_uri": "https://localhost:8080/"
        },
        "id": "fEgaPb2WT7a8",
        "outputId": "42cb4d00-9f89-47f7-b5c0-3ce0b2b062dc"
      },
      "execution_count": 4,
      "outputs": [
        {
          "output_type": "stream",
          "name": "stdout",
          "text": [
            "Python Keywords are:\n",
            "['False', 'None', 'True', 'and', 'as', 'assert', 'async', 'await', 'break', 'class', 'continue', 'def', 'del', 'elif', 'else', 'except', 'finally', 'for', 'from', 'global', 'if', 'import', 'in', 'is', 'lambda', 'nonlocal', 'not', 'or', 'pass', 'raise', 'return', 'try', 'while', 'with', 'yield']\n"
          ]
        }
      ]
    },
    {
      "cell_type": "code",
      "source": [
        "#4 Write a program that checks if a given word is a Python keyword\n",
        "import keyword\n",
        "\n",
        "word = input(\"Enter a word: \")\n",
        "\n",
        "if keyword.iskeyword(word):\n",
        "    print(f\"{word} is a Python keyword.\")\n",
        "else:\n",
        "    print(f\"{word} is NOT a Python keyword.\")"
      ],
      "metadata": {
        "colab": {
          "base_uri": "https://localhost:8080/"
        },
        "id": "DOMtiaCyUTm3",
        "outputId": "14b69256-cd9e-4bbb-d746-efd512b8d68a"
      },
      "execution_count": 6,
      "outputs": [
        {
          "output_type": "stream",
          "name": "stdout",
          "text": [
            "Enter a word: and\n",
            "and is a Python keyword.\n"
          ]
        }
      ]
    },
    {
      "cell_type": "code",
      "source": [
        "#5 Create a list and tuple in Python, and demonstrate how attempting to change an element works differently for each\n",
        "my_list = [10, 20, 30]\n",
        "my_tuple = (10, 20, 30)\n",
        "\n",
        "print(\"Original List:\", my_list)\n",
        "print(\"Original Tuple:\", my_tuple)\n",
        "\n",
        "my_list[1] = 99\n",
        "print(\"Modified List:\", my_list)\n",
        "print(\"Tuples cannot be changed once created.\")"
      ],
      "metadata": {
        "colab": {
          "base_uri": "https://localhost:8080/"
        },
        "id": "onZtlu9vUifX",
        "outputId": "4bd89d3a-00be-47da-8a59-b39378de4ef8"
      },
      "execution_count": 1,
      "outputs": [
        {
          "output_type": "stream",
          "name": "stdout",
          "text": [
            "Original List: [10, 20, 30]\n",
            "Original Tuple: (10, 20, 30)\n",
            "Modified List: [10, 99, 30]\n",
            "Tuples cannot be changed once created.\n"
          ]
        }
      ]
    },
    {
      "cell_type": "code",
      "source": [
        "#6 Write a function to demonstrate the behavior of mutable and immutable arguments\n",
        "\n",
        "def modify(num, my_list):\n",
        "    num = num + 10\n",
        "    my_list.append(4)\n",
        "    print(\"Inside function:\", num, my_list)\n",
        "\n",
        "\n",
        "n = 5\n",
        "lst = [1, 2, 3]\n",
        "\n",
        "modify(n, lst)\n",
        "print(\"Outside function:\", n, lst)"
      ],
      "metadata": {
        "colab": {
          "base_uri": "https://localhost:8080/"
        },
        "id": "qnrFK8l6yxK6",
        "outputId": "0e0348d9-2f5c-4e14-8f70-378f36bcb579"
      },
      "execution_count": 2,
      "outputs": [
        {
          "output_type": "stream",
          "name": "stdout",
          "text": [
            "Inside function: 15 [1, 2, 3, 4]\n",
            "Outside function: 5 [1, 2, 3, 4]\n"
          ]
        }
      ]
    },
    {
      "cell_type": "code",
      "source": [
        "#7 Write a program that performs basic arithmetic operations on two user-input numbers\n",
        "\n",
        "a = float(input(\"Enter first number: \"))\n",
        "b = float(input(\"Enter second number: \"))\n",
        "\n",
        "print(\"Addition:\", a + b)\n",
        "print(\"Subtraction:\", a - b)\n",
        "print(\"Multiplication:\", a * b)\n",
        "print(\"Division:\", a / b)"
      ],
      "metadata": {
        "colab": {
          "base_uri": "https://localhost:8080/"
        },
        "id": "HKpSD1mzzM3j",
        "outputId": "91668b0c-adce-4ef5-b5f2-ca0864eaef7b"
      },
      "execution_count": 3,
      "outputs": [
        {
          "output_type": "stream",
          "name": "stdout",
          "text": [
            "Enter first number: 6\n",
            "Enter second number: 2\n",
            "Addition: 8.0\n",
            "Subtraction: 4.0\n",
            "Multiplication: 12.0\n",
            "Division: 3.0\n"
          ]
        }
      ]
    },
    {
      "cell_type": "code",
      "source": [
        "#8 Write a program to demonstrate the use of logical operators\n",
        "\n",
        "x = int(input(\"Enter a number: \"))\n",
        "\n",
        "print(x > 0 and x < 10)\n",
        "print(x < 0 or x > 100)\n",
        "print(not (x == 5))"
      ],
      "metadata": {
        "colab": {
          "base_uri": "https://localhost:8080/"
        },
        "id": "uXRqIuVZzdjq",
        "outputId": "8e2ad975-8da7-4c03-d569-c347172108d5"
      },
      "execution_count": 4,
      "outputs": [
        {
          "output_type": "stream",
          "name": "stdout",
          "text": [
            "Enter a number: 56\n",
            "False\n",
            "False\n",
            "True\n"
          ]
        }
      ]
    },
    {
      "cell_type": "code",
      "source": [
        "#9 Write a Python program to convert user input from string to integer, float, and boolean types\n",
        "\n",
        "user_input = input(\"Enter something: \")\n",
        "\n",
        "print(\"As String:\", user_input)\n",
        "print(\"As Integer:\", int(user_input))\n",
        "print(\"As Float:\", float(user_input))\n",
        "print(\"As Boolean:\", bool(user_input))"
      ],
      "metadata": {
        "colab": {
          "base_uri": "https://localhost:8080/"
        },
        "id": "MbgiGz4a3O_y",
        "outputId": "6447adb7-6635-4ad1-99b6-867d256bfd0d"
      },
      "execution_count": 6,
      "outputs": [
        {
          "output_type": "stream",
          "name": "stdout",
          "text": [
            "Enter something: 10\n",
            "As String: 10\n",
            "As Integer: 10\n",
            "As Float: 10.0\n",
            "As Boolean: True\n"
          ]
        }
      ]
    },
    {
      "cell_type": "code",
      "source": [
        "#10 Write code to demonstrate type casting with list elements\n",
        "\n",
        "str_list = [\"10\", \"20\", \"30\"]\n",
        "int_list = [int(x) for x in str_list]\n",
        "\n",
        "print(\"Original List (Strings):\", str_list)\n",
        "print(\"Converted List (Integers):\", int_list)"
      ],
      "metadata": {
        "colab": {
          "base_uri": "https://localhost:8080/"
        },
        "id": "A7wmu9HX3dBj",
        "outputId": "8a40c36f-8691-4536-fd0c-927c2d533db3"
      },
      "execution_count": 7,
      "outputs": [
        {
          "output_type": "stream",
          "name": "stdout",
          "text": [
            "Original List (Strings): ['10', '20', '30']\n",
            "Converted List (Integers): [10, 20, 30]\n"
          ]
        }
      ]
    },
    {
      "cell_type": "code",
      "source": [
        "#11 Write a program that checks if a number is positive, negative, or zero\n",
        "\n",
        "num = float(input(\"Enter a number: \"))\n",
        "\n",
        "if num > 0:\n",
        "    print(\"Positive number\")\n",
        "elif num < 0:\n",
        "    print(\"Negative number\")\n",
        "else:\n",
        "    print(\"Zero\")"
      ],
      "metadata": {
        "colab": {
          "base_uri": "https://localhost:8080/"
        },
        "id": "64qrLvbg3osD",
        "outputId": "a77a1de6-b70c-4049-a2cf-638df5e86b90"
      },
      "execution_count": 8,
      "outputs": [
        {
          "output_type": "stream",
          "name": "stdout",
          "text": [
            "Enter a number: 10\n",
            "Positive number\n"
          ]
        }
      ]
    },
    {
      "cell_type": "code",
      "source": [
        "#12 Write a for loop to print numbers from 1 to 10\n",
        "\n",
        "for i in range(1,11):\n",
        "  print(i)"
      ],
      "metadata": {
        "colab": {
          "base_uri": "https://localhost:8080/"
        },
        "id": "nvpfJ8gk3t5q",
        "outputId": "1fcd76c5-ef67-4a64-96dd-f18df407eac6"
      },
      "execution_count": 9,
      "outputs": [
        {
          "output_type": "stream",
          "name": "stdout",
          "text": [
            "1\n",
            "2\n",
            "3\n",
            "4\n",
            "5\n",
            "6\n",
            "7\n",
            "8\n",
            "9\n",
            "10\n"
          ]
        }
      ]
    },
    {
      "cell_type": "code",
      "source": [
        "#13 Write a Python program to find the sum of all even numbers between 1 and 50\n",
        "\n",
        "total = 0\n",
        "\n",
        "for i in range(1, 51):\n",
        "    if i % 2 == 0:\n",
        "        total += i\n",
        "\n",
        "print(\"Sum of even numbers from 1 to 50 is:\", total)"
      ],
      "metadata": {
        "colab": {
          "base_uri": "https://localhost:8080/"
        },
        "id": "jMU_fDm_32Qc",
        "outputId": "193daa9e-4596-46fd-e993-eaad7766b7d1"
      },
      "execution_count": 10,
      "outputs": [
        {
          "output_type": "stream",
          "name": "stdout",
          "text": [
            "Sum of even numbers from 1 to 50 is: 650\n"
          ]
        }
      ]
    },
    {
      "cell_type": "code",
      "source": [
        "#14 Write a program to reverse a string using a while loop\n",
        "\n",
        "text = input(\"Enter a string: \")\n",
        "reversed_text = \"\"\n",
        "i = len(text) - 1\n",
        "\n",
        "while i >= 0:\n",
        "    reversed_text += text[i]\n",
        "    i -= 1\n",
        "\n",
        "print(\"Reversed string:\", reversed_text)"
      ],
      "metadata": {
        "colab": {
          "base_uri": "https://localhost:8080/"
        },
        "id": "LyKDb1gL39Ah",
        "outputId": "bcfd535b-db51-4df8-8c00-c91d4f9c4d9e"
      },
      "execution_count": 11,
      "outputs": [
        {
          "output_type": "stream",
          "name": "stdout",
          "text": [
            "Enter a string: hemant\n",
            "Reversed string: tnameh\n"
          ]
        }
      ]
    },
    {
      "cell_type": "code",
      "source": [
        "#15 Write a Python program to calculate the factorial of a number provided by the user using a while loop\n",
        "\n",
        "num = int(input(\"Enter a number: \"))\n",
        "fact = 1\n",
        "i = 1\n",
        "\n",
        "while i <= num:\n",
        "    fact *= i\n",
        "    i += 1\n",
        "\n",
        "print(\"Factorial of\", num, \"is\", fact)"
      ],
      "metadata": {
        "colab": {
          "base_uri": "https://localhost:8080/"
        },
        "id": "NvtXVcb84Dqh",
        "outputId": "2fd7afb5-cfcf-4e2e-bba7-090ade2f7d96"
      },
      "execution_count": 12,
      "outputs": [
        {
          "output_type": "stream",
          "name": "stdout",
          "text": [
            "Enter a number: 10\n",
            "Factorial of 10 is 3628800\n"
          ]
        }
      ]
    }
  ]
}